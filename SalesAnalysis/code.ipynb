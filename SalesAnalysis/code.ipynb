{
 "cells": [
  {
   "cell_type": "markdown",
   "id": "079887d4",
   "metadata": {},
   "source": [
    "# Sales Analysis and Income Prediction"
   ]
  },
  {
   "cell_type": "markdown",
   "id": "0f9e3fca",
   "metadata": {},
   "source": [
    "### Noemi Carolina Guerra Montiel"
   ]
  },
  {
   "cell_type": "markdown",
   "id": "bb06057c",
   "metadata": {},
   "source": [
    "Uses Pandas and SQL to analyze a store's database in order to obtain the most profitable products, which products are sold the most, what are the dates where there are higher sales, etc."
   ]
  },
  {
   "cell_type": "code",
   "execution_count": null,
   "id": "82aab462",
   "metadata": {},
   "outputs": [],
   "source": []
  }
 ],
 "metadata": {
  "kernelspec": {
   "display_name": "Python 3 (ipykernel)",
   "language": "python",
   "name": "python3"
  },
  "language_info": {
   "codemirror_mode": {
    "name": "ipython",
    "version": 3
   },
   "file_extension": ".py",
   "mimetype": "text/x-python",
   "name": "python",
   "nbconvert_exporter": "python",
   "pygments_lexer": "ipython3",
   "version": "3.11.4"
  }
 },
 "nbformat": 4,
 "nbformat_minor": 5
}
